{
 "cells": [
  {
   "cell_type": "code",
   "execution_count": 71,
   "metadata": {},
   "outputs": [],
   "source": [
    "import csv"
   ]
  },
  {
   "cell_type": "code",
   "execution_count": 72,
   "metadata": {},
   "outputs": [],
   "source": [
    "x=\"type_of_dirt\"\n",
    "y=\"dirtiness\"\n",
    "z=\"wash_time\""
   ]
  },
  {
   "cell_type": "code",
   "execution_count": 73,
   "metadata": {},
   "outputs": [],
   "source": [
    "data = {x: [], y: [], z: []}"
   ]
  },
  {
   "cell_type": "code",
   "execution_count": 74,
   "metadata": {},
   "outputs": [],
   "source": [
    "csvFile = csv.reader(open(\"test_Data.csv\",\"rt\"))"
   ]
  },
  {
   "cell_type": "code",
   "execution_count": 75,
   "metadata": {},
   "outputs": [],
   "source": [
    "for row in csvFile:\n",
    "    data[x].append(row[0])\n",
    "    data[y].append(row[1])\n",
    "    data[z].append(row[2])"
   ]
  },
  {
   "cell_type": "code",
   "execution_count": 76,
   "metadata": {},
   "outputs": [],
   "source": [
    "for  data_i  in  data:\n",
    "         data[data_i]  =  data[data_i][1:]\n",
    "        \n",
    "for data_i in data:\n",
    "    data[data_i] = list(map(float, data[data_i]))"
   ]
  },
  {
   "cell_type": "code",
   "execution_count": 77,
   "metadata": {},
   "outputs": [],
   "source": [
    "def triangular_function(x, a, m,b):\n",
    "    if x<a:\n",
    "        return 0\n",
    "    elif a<=x and x<=m:\n",
    "        return (x-a)/(m-a)\n",
    "    elif m<=x and x<=b:\n",
    "        return (b-x)/(b-m)\n",
    "    else:\n",
    "        return 0"
   ]
  },
  {
   "cell_type": "code",
   "execution_count": 78,
   "metadata": {},
   "outputs": [],
   "source": [
    "x_NotGreasy = \"NotGreasy\"\n",
    "x_Medium = \"Medium\"\n",
    "x_Greasy = \"Greasy\"\n",
    "\n",
    "y_Small = \"Small\"\n",
    "y_Medium = \"Medium\"\n",
    "y_Large = \"Large\"\n",
    "\n",
    "z_VeryShort = \"VeryShort\"\n",
    "z_Short = \"Short\"\n",
    "z_Medium = \"Medium\"\n",
    "z_Long = \"Long\"\n",
    "z_VeryLong = \"VeryLong\""
   ]
  },
  {
   "cell_type": "code",
   "execution_count": 79,
   "metadata": {},
   "outputs": [],
   "source": [
    "grades_x = [x_NotGreasy, x_Medium, x_Greasy]\n",
    "grades_y = [y_Small, y_Medium, y_Large]\n",
    "grades_z = [z_VeryShort, z_Short, z_Medium, \n",
    "            z_Long, z_VeryLong]"
   ]
  },
  {
   "cell_type": "code",
   "execution_count": 80,
   "metadata": {},
   "outputs": [],
   "source": [
    "def x_MF(grade_x, x):\n",
    "    if grade_x == x_NotGreasy:\n",
    "        return triangular_function(x, -50, 0, 50)\n",
    "    elif grade_x == x_Medium:\n",
    "        return triangular_function(x, 0, 50, 100)\n",
    "    elif grade_x == x_Greasy:\n",
    "        return triangular_function(x, 50, 100, 150)"
   ]
  },
  {
   "cell_type": "code",
   "execution_count": 81,
   "metadata": {},
   "outputs": [],
   "source": [
    "def y_MF(grade_y, x):\n",
    "    if grade_y == y_Small:\n",
    "        return triangular_function(x, -50, 0, 50)\n",
    "    elif grade_y == y_Medium:\n",
    "        return triangular_function(x, 0, 50, 100)\n",
    "    elif grade_y == y_Large:\n",
    "        return triangular_function(x, 50, 100, 150)"
   ]
  },
  {
   "cell_type": "code",
   "execution_count": 82,
   "metadata": {},
   "outputs": [],
   "source": [
    "def z_MF(grade_z, x):\n",
    "    if grade_z == z_VeryShort:\n",
    "        return triangular_function(x, 0, 8, 12)\n",
    "    elif grade_z == z_Short:\n",
    "        return triangular_function(x, 8, 12, 20)\n",
    "    elif grade_z == z_Medium:\n",
    "        return triangular_function(x, 12, 20, 35)\n",
    "    elif grade_z == z_Long:\n",
    "        return triangular_function(x, 30, 40, 60)\n",
    "    elif grade_z == z_VeryLong:\n",
    "        return triangular_function(x, 45, 60, 75)"
   ]
  },
  {
   "cell_type": "code",
   "execution_count": 83,
   "metadata": {},
   "outputs": [
    {
     "name": "stdout",
     "output_type": "stream",
     "text": [
      "--------------\n",
      "   Reglas Generadas con su grado  en cada fila del dataset\n",
      "['Medium', 'Medium', 'Long', 0.13526016000000018]\n",
      "['Medium', 'Small', 'Medium', 0.3010406400000001]\n",
      "['NotGreasy', 'Medium', 'Medium', 0.25404736]\n",
      "['NotGreasy', 'Medium', 'Medium', 0.18375552]\n",
      "['Medium', 'Medium', 'Medium', 0.5061007466666666]\n",
      "['NotGreasy', 'Medium', 'Short', 0.7495921999999999]\n",
      "['Greasy', 'Medium', 'Long', 0.28491455999999993]\n",
      "['NotGreasy', 'Medium', 'Medium', 0.4987584000000001]\n",
      "['Medium', 'Small', 'Medium', 0.3007125]\n",
      "['NotGreasy', 'Medium', 'Medium', 0.20218499999999992]\n",
      "['Greasy', 'Small', 'Long', 0.6834128]\n",
      "['NotGreasy', 'Large', 'Medium', 0.20157896000000003]\n",
      "['Medium', 'Small', 'Medium', 0.4031447999999999]\n",
      "['Medium', 'Medium', 'Medium', 0.35257728000000005]\n",
      "['Medium', 'Large', 'Long', 0.42381247999999994]\n",
      "['NotGreasy', 'Small', 'Short', 0.43611750000000005]\n",
      "['Greasy', 'Medium', 'Long', 0.37518000000000007]\n",
      "['Medium', 'Small', 'Medium', 0.6236236533333334]\n",
      "['NotGreasy', 'Medium', 'Medium', 0.36443055]\n",
      "['Medium', 'Medium', 'Medium', 0.80066944]\n",
      "['NotGreasy', 'Medium', 'Medium', 0.2765034]\n",
      "['Medium', 'Medium', 'Long', 0.1625691200000001]\n",
      "['Medium', 'Large', 'Long', 0.37885320000000006]\n",
      "['Medium', 'Medium', 'Long', 0.09787800000000003]\n",
      "['Greasy', 'Large', 'Long', 0.3862638]\n",
      "['Medium', 'Small', 'Long', 0.1247868000000001]\n",
      "['Greasy', 'Large', 'Long', 0.2433912]\n",
      "['Greasy', 'Small', 'Long', 0.43258336]\n",
      "['NotGreasy', 'Small', 'Medium', 0.23111125]\n",
      "['Medium', 'Small', 'Medium', 0.48755783999999996]\n",
      "['NotGreasy', 'Medium', 'Medium', 0.38701376000000004]\n",
      "['Medium', 'Small', 'Medium', 0.4823137999999999]\n",
      "['Greasy', 'Large', 'Long', 0.4280640000000001]\n",
      "['Medium', 'Large', 'Long', 0.45030959999999987]\n",
      "['Greasy', 'Medium', 'Long', 0.28429632]\n",
      "['Greasy', 'Large', 'Long', 0.42874944000000015]\n",
      "['Greasy', 'Large', 'Long', 0.5336654399999999]\n",
      "['Greasy', 'Small', 'Long', 0.20434127999999988]\n",
      "['Greasy', 'Medium', 'Long', 0.5160936]\n",
      "['Medium', 'Small', 'Medium', 0.27704320000000004]\n",
      "['Greasy', 'Large', 'VeryLong', 0.3936533333333334]\n",
      "['NotGreasy', 'Small', 'Short', 0.5363922]\n",
      "['Medium', 'Large', 'Long', 0.28826879999999994]\n",
      "['Medium', 'Medium', 'Medium', 0.6500797333333334]\n",
      "['Greasy', 'Large', 'Long', 0.45205055999999993]\n",
      "['Medium', 'Large', 'Long', 0.3528980000000001]\n",
      "['NotGreasy', 'Large', 'Medium', 0.7500724]\n",
      "['Greasy', 'Small', 'Long', 0.8253197399999997]\n",
      "['NotGreasy', 'Small', 'VeryShort', 0.6730550399999998]\n",
      "['NotGreasy', 'Small', 'VeryShort', 0.5841072]\n",
      "-------------\n",
      "--------------\n",
      "   Reglas Generadas\n",
      "['Greasy', 'Large', 'Long']\n",
      "['Medium', 'Medium', 'Long']\n",
      "['NotGreasy', 'Small', 'Medium']\n",
      "['NotGreasy', 'Small', 'Short']\n",
      "['Medium', 'Small', 'Long']\n",
      "['Greasy', 'Medium', 'Long']\n",
      "['NotGreasy', 'Small', 'VeryShort']\n",
      "['NotGreasy', 'Medium', 'Short']\n",
      "['NotGreasy', 'Medium', 'Medium']\n",
      "['Medium', 'Medium', 'Medium']\n",
      "['Medium', 'Small', 'Medium']\n",
      "['Greasy', 'Small', 'Long']\n",
      "['Medium', 'Large', 'Long']\n",
      "['Greasy', 'Large', 'VeryLong']\n",
      "['NotGreasy', 'Large', 'Medium']\n",
      "--------------\n"
     ]
    }
   ],
   "source": [
    "n = len(data[x])\n",
    "\n",
    "\n",
    "combinations = []\n",
    "\n",
    "for i in range(n):\n",
    "    combination = []\n",
    "    for data_i in [x]:\n",
    "        grade_ = 0\n",
    "        combiniation_ = []\n",
    "        \n",
    "        for grade in grades_x:\n",
    "            logical_value = x_MF(grade, data[data_i][i])\n",
    "            if logical_value > grade_ :\n",
    "                grade_ = logical_value\n",
    "                combination_ = [data[data_i][i], grade, logical_value]\n",
    "        \n",
    "        combination.append(combination_)\n",
    "    \n",
    "    for data_i in [y]:\n",
    "        grade_ = 0\n",
    "        \n",
    "        for grade in grades_y:\n",
    "            logical_value = y_MF(grade, data[data_i][i])\n",
    "            if logical_value > grade_ :\n",
    "                grade_ = logical_value\n",
    "                combination_ = [data[data_i][i], grade, logical_value]\n",
    "        combination.append(combination_)\n",
    "    \n",
    "    for data_i in [z]:\n",
    "        grade_ = 0\n",
    "        \n",
    "        for grade in grades_z:\n",
    "            logical_value = z_MF(grade, data[data_i][i])\n",
    "            if logical_value > grade_ :\n",
    "                grade_ = logical_value\n",
    "                combination_ = [data[data_i][i], grade, logical_value]\n",
    "        combination.append(combination_)\n",
    "    \n",
    "    combinations.append(combination)\n",
    "\n",
    "rules = []\n",
    "for combination in combinations:\n",
    "    '''\n",
    "    #Esto según el ejercicio\n",
    "    rules.append([combination[0][1], combination[1][1], combination[2][1],\n",
    "                  combination[0][2]*combination[1][2]])\n",
    "    '''\n",
    "    \n",
    "    #Esto según la teoría del paper\n",
    "    rules.append([combination[0][1], combination[1][1], combination[2][1],\n",
    "                  combination[0][2]*combination[1][2]*combination[2][2]]) \n",
    "    \n",
    "print(\"--------------\")\n",
    "print(\"   Reglas Generadas con su grado  en cada fila del dataset\")\n",
    "for rule in rules:\n",
    "    print(rule)\n",
    "print(\"-------------\")\n",
    "    \n",
    "\n",
    "unique_rules = [list(x) for x in set(tuple(x[:len(x)-1]) for x in rules)]\n",
    "\n",
    "print(\"--------------\")\n",
    "print(\"   Reglas Generadas\")\n",
    "for unique_rule in unique_rules:\n",
    "    print(unique_rule)\n",
    "print(\"--------------\")"
   ]
  },
  {
   "cell_type": "code",
   "execution_count": 84,
   "metadata": {},
   "outputs": [
    {
     "name": "stdout",
     "output_type": "stream",
     "text": [
      "['Medium', 'Medium', 'Medium', 0.80066944]\n",
      "['Medium', 'Small', 'Medium', 0.6236236533333334]\n",
      "['NotGreasy', 'Medium', 'Short', 0.7495921999999999]\n",
      "['Greasy', 'Medium', 'Long', 0.5160936]\n",
      "['Greasy', 'Small', 'Long', 0.8253197399999997]\n",
      "['NotGreasy', 'Large', 'Medium', 0.7500724]\n",
      "['Medium', 'Large', 'Long', 0.45030959999999987]\n",
      "['NotGreasy', 'Small', 'VeryShort', 0.6730550399999998]\n",
      "['Greasy', 'Large', 'Long', 0.5336654399999999]\n"
     ]
    }
   ],
   "source": [
    "final_rules = []\n",
    "\n",
    "set_rules = {}\n",
    "\n",
    "def getMaxGradeRule(rules):\n",
    "    grade = 0\n",
    "    rule_return = []\n",
    "    for rule in rules:\n",
    "        if rule[len(rule)-1] > grade:\n",
    "            grade = rule[len(rule)-1]\n",
    "            rule_return = rule\n",
    "    return rule_return\n",
    "    \n",
    "for rule in rules:\n",
    "    if set_rules.get(\", \".join(rule[:len(rule)-2]), None) is None:\n",
    "        set_rules[\", \".join(rule[:len(rule)-2])] = [rule]\n",
    "    set_rules[\", \".join(rule[:len(rule)-2])].append(rule)\n",
    "    \n",
    "for key in set_rules:\n",
    "    final_rules.append(getMaxGradeRule(\n",
    "        set_rules[key]\n",
    "    ))\n",
    "    \n",
    "for rule in final_rules:\n",
    "    print(rule)"
   ]
  }
 ],
 "metadata": {
  "kernelspec": {
   "display_name": "Python 3",
   "language": "python",
   "name": "python3"
  },
  "language_info": {
   "codemirror_mode": {
    "name": "ipython",
    "version": 3
   },
   "file_extension": ".py",
   "mimetype": "text/x-python",
   "name": "python",
   "nbconvert_exporter": "python",
   "pygments_lexer": "ipython3",
   "version": "3.6.5"
  }
 },
 "nbformat": 4,
 "nbformat_minor": 2
}
