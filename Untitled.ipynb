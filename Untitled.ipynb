{
 "cells": [
  {
   "cell_type": "code",
   "execution_count": 9,
   "metadata": {},
   "outputs": [],
   "source": [
    "import numpy as np\n",
    "import skfuzzy as fuzz\n",
    "from skfuzzy import control as ctrl"
   ]
  },
  {
   "cell_type": "code",
   "execution_count": 30,
   "metadata": {},
   "outputs": [],
   "source": [
    "#Linguistic variables and labels\n",
    "type_of_dirty = ctrl.Antecedent(np.arange(0,100,1), 'type_of_dirty')\n",
    "type_of_dirty['NoGreasy'] = fuzz.trimf(type_of_dirty.universe, [0, 0, 50])\n",
    "type_of_dirty['Medium'] = fuzz.trimf(type_of_dirty.universe, [0, 50, 100])\n",
    "type_of_dirty['Greasy'] = fuzz.trimf(type_of_dirty.universe, [50, 100, 100])\n",
    "\n",
    "dirtiness = ctrl.Antecedent(np.arange(0,100,1), 'dirtiness')\n",
    "dirtiness['Small'] = fuzz.trimf(dirtiness.universe, [0, 0, 50])\n",
    "dirtiness['Medium'] = fuzz.trimf(dirtiness.universe, [0, 50, 100])\n",
    "dirtiness['Large'] = fuzz.trimf(dirtiness.universe, [50, 100, 100])\n",
    "\n",
    "wash_time = ctrl.Consequent(np.arange(0,60,1), 'wash_time')\n",
    "wash_time['very_short'] = fuzz.trimf(wash_time.universe, [0,8,12])\n",
    "wash_time['short'] = fuzz.trimf(wash_time.universe, [8,12,20])\n",
    "wash_time['medium'] = fuzz.trimf(wash_time.universe, [12,20,35])\n",
    "wash_time['long'] = fuzz.trimf(wash_time.universe, [30,40,60])\n",
    "wash_time['very_long'] = fuzz.trimf(wash_time.universe, [45,60,60])"
   ]
  },
  {
   "cell_type": "code",
   "execution_count": 31,
   "metadata": {},
   "outputs": [],
   "source": [
    "#Rules\n",
    "rule1 = ctrl.Rule(type_of_dirty['NoGreasy'] \n",
    "                  & dirtiness['Small'],wash_time['very_short'])\n",
    "rule2 = ctrl.Rule(type_of_dirty['NoGreasy']\n",
    "                  & dirtiness['Medium'], wash_time['short'])\n",
    "rule3 = ctrl.Rule(type_of_dirty['NoGreasy']\n",
    "                  & dirtiness['Large'], wash_time['medium'])\n",
    "rule4 = ctrl.Rule(type_of_dirty['Medium']\n",
    "                  & dirtiness['Small'], wash_time['medium'])\n",
    "rule5 = ctrl.Rule(type_of_dirty['Medium']\n",
    "                  & dirtiness['Medium'], wash_time['medium'])\n",
    "rule6 = ctrl.Rule(type_of_dirty['Medium']\n",
    "                  & dirtiness['Large'], wash_time['long'])\n",
    "rule7 = ctrl.Rule(type_of_dirty['Greasy']\n",
    "                  & dirtiness['Small'], wash_time['long'])\n",
    "rule8 = ctrl.Rule(type_of_dirty['Greasy']\n",
    "                  & dirtiness['Medium'], wash_time['long'])\n",
    "rule9 = ctrl.Rule(type_of_dirty['Greasy']\n",
    "                  & dirtiness['Large'], wash_time['very_long'])"
   ]
  },
  {
   "cell_type": "code",
   "execution_count": 32,
   "metadata": {},
   "outputs": [],
   "source": [
    "rules = ctrl.ControlSystem([rule1, rule2, rule3\n",
    "                           , rule3, rule4, rule5\n",
    "                           , rule6, rule7, rule8\n",
    "                           , rule9])\n",
    "\n",
    "wash_machine = ctrl.ControlSystemSimulation(rules)"
   ]
  },
  {
   "cell_type": "code",
   "execution_count": 38,
   "metadata": {},
   "outputs": [
    {
     "name": "stdout",
     "output_type": "stream",
     "text": [
      "35.8\n"
     ]
    }
   ],
   "source": [
    "wash_machine.input['type_of_dirty'] = 79\n",
    "wash_machine.input['dirtiness'] = 42\n",
    "\n",
    "wash_machine.compute()\n",
    "print(round(wash_machine.output['wash_time'],1))\n"
   ]
  }
 ],
 "metadata": {
  "kernelspec": {
   "display_name": "Python 3",
   "language": "python",
   "name": "python3"
  },
  "language_info": {
   "codemirror_mode": {
    "name": "ipython",
    "version": 3
   },
   "file_extension": ".py",
   "mimetype": "text/x-python",
   "name": "python",
   "nbconvert_exporter": "python",
   "pygments_lexer": "ipython3",
   "version": "3.6.5"
  }
 },
 "nbformat": 4,
 "nbformat_minor": 2
}
